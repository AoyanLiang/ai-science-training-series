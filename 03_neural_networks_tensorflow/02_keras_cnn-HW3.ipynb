{
 "cells": [
  {
   "cell_type": "markdown",
   "metadata": {},
   "source": [
    "# CIFAR-10 dataset classification with CNNs\n",
    "\n",
    "Author: Tanwi Mallick, adapting codes from Bethany Lusch, Prasanna Balprakash, Corey Adams, and Kyle Felker\n",
    "\n",
    "In this notebook, we'll continue the CIFAR-10 problem using the Keras API (as included in the TensorFlow library) and incorporating convolutional layers.\n",
    "\n",
    "First, the needed imports."
   ]
  },
  {
   "cell_type": "code",
   "execution_count": 1,
   "metadata": {},
   "outputs": [],
   "source": [
    "%matplotlib inline\n",
    "\n",
    "import tensorflow as tf\n",
    "\n",
    "import numpy\n",
    "import matplotlib.pyplot as plt\n",
    "import time"
   ]
  },
  {
   "cell_type": "markdown",
   "metadata": {},
   "source": [
    "## CIFAR-10 data set\n",
    "\n",
    "Again we'll load the cifar10 data set. CIFAR-10 dataset contains 32x32 color images from 10 classes: airplane, automobile, bird, cat, deer, dog, frog, horse, ship, truck. If you haven't downloaded it already, it could take a while."
   ]
  },
  {
   "cell_type": "code",
   "execution_count": 2,
   "metadata": {},
   "outputs": [
    {
     "name": "stdout",
     "output_type": "stream",
     "text": [
      "\n",
      "CIFAR-10 data loaded: train: 50000 test: 10000\n",
      "X_train: (50000, 32, 32, 3)\n",
      "y_train: (50000,)\n"
     ]
    }
   ],
   "source": [
    "from image_dataset_loader import load\n",
    "(x_train, y_train), (x_test, y_test) = load('cifar10', ['train', 'test'])\n",
    "\n",
    "x_train = x_train.astype(numpy.float32)\n",
    "x_test  = x_test.astype(numpy.float32)\n",
    "\n",
    "x_train /= 255.\n",
    "x_test  /= 255.\n",
    "\n",
    "y_train = y_train.astype(numpy.int32)\n",
    "y_test  = y_test.astype(numpy.int32)\n",
    "\n",
    "print()\n",
    "print('CIFAR-10 data loaded: train:',len(x_train),'test:',len(x_test))\n",
    "print('X_train:', x_train.shape)\n",
    "print('y_train:', y_train.shape)"
   ]
  },
  {
   "cell_type": "markdown",
   "metadata": {},
   "source": [
    "This time we won't flatten the images. \n",
    "\n",
    "The training data (`X_train`) is a 3rd-order tensor of size (50000, 32, 32), i.e. it consists of 50000 images of size 32x32 pixels. \n",
    "\n",
    "`y_train` is a 50000-dimensional vector containing the correct classes ('airplane', 'automobile', 'bird', 'cat', 'deer', 'dog', 'frog', 'horse', 'ship', 'truck') for each training sample."
   ]
  },
  {
   "cell_type": "markdown",
   "metadata": {},
   "source": [
    "## Convolutional neural network (CNN)\n",
    "\n",
    "CNN is a type of deep learning model for processing data that has a grid pattern, such as images.\n",
    "\n",
    "Let's use a small model that includes convolutional layers\n",
    "\n",
    "- The Conv2D layers operate on 2D matrices so we input the digit images directly to the model.\n",
    "    - The two Conv2D layers belows learn 32 and 64 filters respectively. \n",
    "    - They are learning filters for 3x3 windows.\n",
    "- The MaxPooling2D layer reduces the spatial dimensions, that is, makes the image smaller.\n",
    "    - It downsamples by taking the maximum value in the window \n",
    "    - The pool size of (2, 2) below means the windows are 2x2. \n",
    "    - Helps in extracting important features and reduce computation\n",
    "- The Flatten layer flattens the 2D matrices into vectors, so we can then switch to Dense layers as in the MLP model.\n",
    "\n",
    "See https://keras.io/layers/convolutional/, https://keras.io/layers/pooling/ for more information."
   ]
  },
  {
   "cell_type": "markdown",
   "metadata": {},
   "source": [
    "![conv layer](images/conv_layer.png)\n",
    "Image credit: [Jason Brownlee](https://machinelearningmastery.com/convolutional-layers-for-deep-learning-neural-networks/)"
   ]
  },
  {
   "cell_type": "markdown",
   "metadata": {},
   "source": [
    "![conv layer](images/conv.png)\n",
    "Image credit: [Anh H. Reynolds](https://anhreynolds.com/blogs/cnn.html)"
   ]
  },
  {
   "cell_type": "markdown",
   "metadata": {},
   "source": [
    "\n",
    "<img src=\"images/MaxpoolSample2.png\" width=\"600\" hight=\"600\" align=\"left\"/>"
   ]
  },
  {
   "cell_type": "code",
   "execution_count": 3,
   "metadata": {},
   "outputs": [],
   "source": [
    "class CIFAR10Classifier(tf.keras.models.Model):\n",
    "\n",
    "    def __init__(self, activation=tf.nn.tanh):\n",
    "        tf.keras.models.Model.__init__(self)\n",
    "\n",
    "        self.conv_1 = tf.keras.layers.Conv2D(32, [3, 3], activation='relu')\n",
    "        self.pool_2 = tf.keras.layers.MaxPooling2D(pool_size=(2, 2))\n",
    "        self.conv_3 = tf.keras.layers.Conv2D(64, [3, 3], activation='relu')\n",
    "        self.pool_4 = tf.keras.layers.MaxPooling2D(pool_size=(2, 2))\n",
    "        self.conv_5 = tf.keras.layers.Conv2D(64, [3, 3], activation='relu')\n",
    "        self.pool_6 = tf.keras.layers.MaxPooling2D(pool_size=(2, 2))\n",
    "        self.drop_7 = tf.keras.layers.Dropout(0.25)\n",
    "        self.dense_8 = tf.keras.layers.Dense(128, activation='relu')\n",
    "        self.dense_9 = tf.keras.layers.Dense(64, activation='relu')\n",
    "        self.drop_10 = tf.keras.layers.Dropout(0.5)\n",
    "        self.dense_11 = tf.keras.layers.Dense(10, activation='softmax')\n",
    "\n",
    "    def call(self, inputs):\n",
    "\n",
    "        x = self.conv_1(inputs)\n",
    "        x = self.pool_2(x)\n",
    "        x = self.conv_3(x)\n",
    "        x = self.pool_4(x)\n",
    "        x = self.conv_5(x)\n",
    "        x = self.pool_6(x)\n",
    "        x = self.drop_7(x)\n",
    "        x = tf.keras.layers.Flatten()(x)\n",
    "        x = self.dense_8(x)\n",
    "        x = self.dense_9(x)\n",
    "        x = self.drop_10(x)\n",
    "        x = self.dense_11(x)\n",
    "\n",
    "        return x"
   ]
  },
  {
   "cell_type": "markdown",
   "metadata": {},
   "source": [
    "### Simple training"
   ]
  },
  {
   "cell_type": "markdown",
   "metadata": {},
   "source": [
    "Here is a concise way to train the network, like we did in the previous notebook. We'll see a more verbose approach below that allows more performance tuning."
   ]
  },
  {
   "cell_type": "code",
   "execution_count": 4,
   "metadata": {},
   "outputs": [],
   "source": [
    "def train_network_concise(_batch_size, _n_training_epochs, _lr):\n",
    "\n",
    "    cnn_model = CIFAR10Classifier()\n",
    "\n",
    "    cnn_model.compile(loss=\"sparse_categorical_crossentropy\", optimizer=\"Nadam\", metrics=['accuracy'])\n",
    "    \n",
    "    history = cnn_model.fit(x_train, y_train, batch_size=_batch_size, epochs=_n_training_epochs)\n",
    "    return history, cnn_model"
   ]
  },
  {
   "cell_type": "code",
   "execution_count": 5,
   "metadata": {},
   "outputs": [
    {
     "name": "stdout",
     "output_type": "stream",
     "text": [
      "Epoch 1/50\n",
      "250/250 [==============================] - 4s 3ms/step - loss: 1.9762 - accuracy: 0.2600\n",
      "Epoch 2/50\n",
      "250/250 [==============================] - 1s 3ms/step - loss: 1.5819 - accuracy: 0.4253\n",
      "Epoch 3/50\n",
      "250/250 [==============================] - 1s 3ms/step - loss: 1.4230 - accuracy: 0.4916\n",
      "Epoch 4/50\n",
      "250/250 [==============================] - 1s 3ms/step - loss: 1.3221 - accuracy: 0.5329\n",
      "Epoch 5/50\n",
      "250/250 [==============================] - 1s 4ms/step - loss: 1.2468 - accuracy: 0.5656\n",
      "Epoch 6/50\n",
      "250/250 [==============================] - 1s 4ms/step - loss: 1.1772 - accuracy: 0.5932\n",
      "Epoch 7/50\n",
      "250/250 [==============================] - 1s 4ms/step - loss: 1.1299 - accuracy: 0.6104\n",
      "Epoch 8/50\n",
      "250/250 [==============================] - 1s 4ms/step - loss: 1.0894 - accuracy: 0.6263\n",
      "Epoch 9/50\n",
      "250/250 [==============================] - 1s 4ms/step - loss: 1.0474 - accuracy: 0.6426\n",
      "Epoch 10/50\n",
      "250/250 [==============================] - 1s 4ms/step - loss: 1.0067 - accuracy: 0.6528\n",
      "Epoch 11/50\n",
      "250/250 [==============================] - 1s 4ms/step - loss: 0.9744 - accuracy: 0.6662\n",
      "Epoch 12/50\n",
      "250/250 [==============================] - 1s 4ms/step - loss: 0.9433 - accuracy: 0.6783\n",
      "Epoch 13/50\n",
      "250/250 [==============================] - 1s 4ms/step - loss: 0.9122 - accuracy: 0.6910\n",
      "Epoch 14/50\n",
      "250/250 [==============================] - 1s 4ms/step - loss: 0.8917 - accuracy: 0.6981\n",
      "Epoch 15/50\n",
      "250/250 [==============================] - 1s 4ms/step - loss: 0.8704 - accuracy: 0.7036\n",
      "Epoch 16/50\n",
      "250/250 [==============================] - 1s 4ms/step - loss: 0.8477 - accuracy: 0.7119\n",
      "Epoch 17/50\n",
      "250/250 [==============================] - 1s 4ms/step - loss: 0.8220 - accuracy: 0.7216\n",
      "Epoch 18/50\n",
      "250/250 [==============================] - 1s 4ms/step - loss: 0.8094 - accuracy: 0.7254\n",
      "Epoch 19/50\n",
      "250/250 [==============================] - 1s 4ms/step - loss: 0.7876 - accuracy: 0.7322\n",
      "Epoch 20/50\n",
      "250/250 [==============================] - 1s 4ms/step - loss: 0.7700 - accuracy: 0.7414\n",
      "Epoch 21/50\n",
      "250/250 [==============================] - 1s 4ms/step - loss: 0.7537 - accuracy: 0.7443\n",
      "Epoch 22/50\n",
      "250/250 [==============================] - 1s 4ms/step - loss: 0.7388 - accuracy: 0.7479\n",
      "Epoch 23/50\n",
      "250/250 [==============================] - 1s 4ms/step - loss: 0.7241 - accuracy: 0.7537\n",
      "Epoch 24/50\n",
      "250/250 [==============================] - 1s 4ms/step - loss: 0.7106 - accuracy: 0.7598\n",
      "Epoch 25/50\n",
      "250/250 [==============================] - 1s 4ms/step - loss: 0.7018 - accuracy: 0.7606\n",
      "Epoch 26/50\n",
      "250/250 [==============================] - 1s 4ms/step - loss: 0.6862 - accuracy: 0.7671\n",
      "Epoch 27/50\n",
      "250/250 [==============================] - 1s 4ms/step - loss: 0.6745 - accuracy: 0.7722\n",
      "Epoch 28/50\n",
      "250/250 [==============================] - 1s 4ms/step - loss: 0.6576 - accuracy: 0.7774\n",
      "Epoch 29/50\n",
      "250/250 [==============================] - 1s 4ms/step - loss: 0.6470 - accuracy: 0.7821\n",
      "Epoch 30/50\n",
      "250/250 [==============================] - 1s 4ms/step - loss: 0.6416 - accuracy: 0.7816\n",
      "Epoch 31/50\n",
      "250/250 [==============================] - 1s 4ms/step - loss: 0.6403 - accuracy: 0.7832\n",
      "Epoch 32/50\n",
      "250/250 [==============================] - 1s 4ms/step - loss: 0.6201 - accuracy: 0.7910\n",
      "Epoch 33/50\n",
      "250/250 [==============================] - 1s 4ms/step - loss: 0.6093 - accuracy: 0.7931\n",
      "Epoch 34/50\n",
      "250/250 [==============================] - 1s 4ms/step - loss: 0.6036 - accuracy: 0.7949\n",
      "Epoch 35/50\n",
      "250/250 [==============================] - 1s 4ms/step - loss: 0.5956 - accuracy: 0.7968\n",
      "Epoch 36/50\n",
      "250/250 [==============================] - 1s 4ms/step - loss: 0.5851 - accuracy: 0.8004\n",
      "Epoch 37/50\n",
      "250/250 [==============================] - 1s 4ms/step - loss: 0.5801 - accuracy: 0.8009\n",
      "Epoch 38/50\n",
      "250/250 [==============================] - 1s 4ms/step - loss: 0.5735 - accuracy: 0.8043\n",
      "Epoch 39/50\n",
      "250/250 [==============================] - 1s 4ms/step - loss: 0.5603 - accuracy: 0.8107\n",
      "Epoch 40/50\n",
      "250/250 [==============================] - 1s 4ms/step - loss: 0.5583 - accuracy: 0.8099\n",
      "Epoch 41/50\n",
      "250/250 [==============================] - 1s 4ms/step - loss: 0.5538 - accuracy: 0.8126\n",
      "Epoch 42/50\n",
      "250/250 [==============================] - 1s 4ms/step - loss: 0.5440 - accuracy: 0.8158\n",
      "Epoch 43/50\n",
      "250/250 [==============================] - 1s 4ms/step - loss: 0.5374 - accuracy: 0.8175\n",
      "Epoch 44/50\n",
      "250/250 [==============================] - 1s 4ms/step - loss: 0.5284 - accuracy: 0.8196\n",
      "Epoch 45/50\n",
      "250/250 [==============================] - 1s 4ms/step - loss: 0.5195 - accuracy: 0.8228\n",
      "Epoch 46/50\n",
      "250/250 [==============================] - 1s 4ms/step - loss: 0.5186 - accuracy: 0.8220\n",
      "Epoch 47/50\n",
      "250/250 [==============================] - 1s 4ms/step - loss: 0.5137 - accuracy: 0.8247\n",
      "Epoch 48/50\n",
      "250/250 [==============================] - 1s 4ms/step - loss: 0.5063 - accuracy: 0.8265\n",
      "Epoch 49/50\n",
      "250/250 [==============================] - 1s 3ms/step - loss: 0.5071 - accuracy: 0.8287\n",
      "Epoch 50/50\n",
      "250/250 [==============================] - 1s 3ms/step - loss: 0.4971 - accuracy: 0.8296\n"
     ]
    }
   ],
   "source": [
    "# This took 55 seconds per epoch on my laptop\n",
    "batch_size = 200\n",
    "epochs = 50\n",
    "lr = 0.01\n",
    "history, cnn_model = train_network_concise(batch_size, epochs, lr)"
   ]
  },
  {
   "cell_type": "markdown",
   "metadata": {},
   "source": [
    "Accuracy for test data.  The model should be better than the non-convolutional model even if you're only patient enough for three epochs. "
   ]
  },
  {
   "cell_type": "code",
   "execution_count": 6,
   "metadata": {},
   "outputs": [
    {
     "data": {
      "image/png": "[encoded data removed]",
      "text/plain": [
       "<Figure size 360x216 with 1 Axes>"
      ]
     },
     "metadata": {
      "needs_background": "light"
     },
     "output_type": "display_data"
    },
    {
     "data": {
      "image/png": "[encoded data removed]",
      "text/plain": [
       "<Figure size 360x216 with 1 Axes>"
      ]
     },
     "metadata": {
      "needs_background": "light"
     },
     "output_type": "display_data"
    }
   ],
   "source": [
    "plt.figure(figsize=(5,3))\n",
    "plt.plot(history.epoch,history.history['loss'])\n",
    "plt.title('loss')\n",
    "\n",
    "plt.figure(figsize=(5,3))\n",
    "plt.plot(history.epoch,history.history['accuracy'])\n",
    "plt.title('accuracy');"
   ]
  },
  {
   "cell_type": "markdown",
   "metadata": {},
   "source": [
    "### Inference"
   ]
  },
  {
   "cell_type": "markdown",
   "metadata": {},
   "source": [
    "With enough training epochs, the test accuracy should exceed 99%.\n",
    "\n",
    "You can compare your result with the state-of-the art [here](http://rodrigob.github.io/are_we_there_yet/build/classification_datasets_results.html). Even more results can be found [here](http://yann.lecun.com/exdb/mnist/)."
   ]
  },
  {
   "cell_type": "code",
   "execution_count": 7,
   "metadata": {},
   "outputs": [
    {
     "name": "stdout",
     "output_type": "stream",
     "text": [
      "313/313 - 1s - loss: 0.8101 - accuracy: 0.7536 - 614ms/epoch - 2ms/step\n",
      "accuracy: 75.36%\n",
      "CPU times: user 823 ms, sys: 139 ms, total: 963 ms\n",
      "Wall time: 732 ms\n"
     ]
    }
   ],
   "source": [
    "%%time\n",
    "x_test_reshaped = numpy.expand_dims(x_test, -1)\n",
    "scores = cnn_model.evaluate(x_test, y_test, verbose=2)\n",
    "print(\"%s: %.2f%%\" % (cnn_model.metrics_names[1], scores[1]*100))"
   ]
  },
  {
   "cell_type": "markdown",
   "metadata": {},
   "source": [
    "We can also again check the confusion matrix"
   ]
  },
  {
   "cell_type": "code",
   "execution_count": 8,
   "metadata": {},
   "outputs": [
    {
     "name": "stdout",
     "output_type": "stream",
     "text": [
      "Confusion matrix (rows: true classes; columns: predicted classes):\n",
      "\n",
      "313/313 [==============================] - 0s 994us/step\n",
      "[[784  22  25  18  12   5   6   7  94  27]\n",
      " [ 12 869   8   7   1   3   4   0  31  65]\n",
      " [ 80   8 629  76  64  43  47  23  19  11]\n",
      " [ 23   3  61 575  46 149  59  37  28  19]\n",
      " [ 32   4  63  55 707  21  36  65  16   1]\n",
      " [ 12   6  45 179  30 645  15  50  11   7]\n",
      " [  4   8  43  58  36  11 820   6   8   6]\n",
      " [ 19   3  24  46  64  42   4 779   2  17]\n",
      " [ 44  20   5   9   4   2   3   5 883  25]\n",
      " [ 26  65   8  11   3   4   1   7  30 845]]\n",
      "\n",
      "Classification accuracy for each class:\n",
      "\n",
      "0: 0.7840\n",
      "1: 0.8690\n",
      "2: 0.6290\n",
      "3: 0.5750\n",
      "4: 0.7070\n",
      "5: 0.6450\n",
      "6: 0.8200\n",
      "7: 0.7790\n",
      "8: 0.8830\n",
      "9: 0.8450\n"
     ]
    }
   ],
   "source": [
    "from sklearn.metrics import confusion_matrix\n",
    "\n",
    "print('Confusion matrix (rows: true classes; columns: predicted classes):'); print()\n",
    "predictions = cnn_model.predict(x_test)\n",
    "cm=confusion_matrix(y_test, numpy.argmax(predictions, axis=1), labels=list(range(10)))\n",
    "print(cm); print()\n",
    "\n",
    "print('Classification accuracy for each class:'); print()\n",
    "for i,j in enumerate(cm.diagonal()/cm.sum(axis=1)): print(\"%d: %.4f\" % (i,j))"
   ]
  },
  {
   "cell_type": "markdown",
   "metadata": {},
   "source": [
    "### More verbose training"
   ]
  },
  {
   "cell_type": "markdown",
   "metadata": {},
   "source": [
    "This approach explicitly handles the looping over data. It will be helpful this afternoon for diving in and optimizing"
   ]
  },
  {
   "cell_type": "code",
   "execution_count": null,
   "metadata": {},
   "outputs": [],
   "source": [
    "def compute_loss(y_true, y_pred):\n",
    "    # if labels are integers, use sparse categorical crossentropy\n",
    "    # network's final layer is softmax, so from_logtis=False\n",
    "    scce = tf.keras.losses.SparseCategoricalCrossentropy(from_logits=False)\n",
    "    # if labels are one-hot encoded, use standard crossentropy\n",
    "\n",
    "    return scce(y_true, y_pred)  "
   ]
  },
  {
   "cell_type": "code",
   "execution_count": null,
   "metadata": {},
   "outputs": [],
   "source": [
    "def forward_pass(model, batch_data, y_true):\n",
    "    y_pred = model(batch_data)\n",
    "    loss = compute_loss(y_true, y_pred)\n",
    "    return loss"
   ]
  },
  {
   "cell_type": "code",
   "execution_count": null,
   "metadata": {},
   "outputs": [],
   "source": [
    "# Here is a function that will manage the training loop for us:\n",
    "\n",
    "def train_loop(batch_size, n_training_epochs, model, opt):\n",
    "    \n",
    "    @tf.function()\n",
    "    def train_iteration(data, y_true, model, opt):\n",
    "        with tf.GradientTape() as tape:\n",
    "            loss = forward_pass(model, data, y_true)\n",
    "\n",
    "        trainable_vars = model.trainable_variables\n",
    "\n",
    "        # Apply the update to the network (one at a time):\n",
    "        grads = tape.gradient(loss, trainable_vars)\n",
    "\n",
    "        opt.apply_gradients(zip(grads, trainable_vars))\n",
    "        return loss\n",
    "\n",
    "    for i_epoch in range(n_training_epochs):\n",
    "        print(\"beginning epoch %d\" % i_epoch)\n",
    "        start = time.time()\n",
    "\n",
    "        epoch_steps = int(50000/batch_size)\n",
    "        dataset.shuffle(50000) # Shuffle the whole dataset in memory\n",
    "        batches = dataset.batch(batch_size=batch_size, drop_remainder=True)\n",
    "        \n",
    "        for i_batch, (batch_data, y_true) in enumerate(batches):\n",
    "            batch_data = tf.reshape(batch_data, [-1, 32, 32, 3])\n",
    "            loss = train_iteration(batch_data, y_true, model, opt)\n",
    "            \n",
    "        end = time.time()\n",
    "        print(\"took %1.1f seconds for epoch #%d\" % (end-start, i_epoch))\n",
    "        "
   ]
  },
  {
   "cell_type": "code",
   "execution_count": null,
   "metadata": {},
   "outputs": [],
   "source": [
    "def train_network(_batch_size, _n_training_epochs, _lr):\n",
    "\n",
    "    mnist_model = CIFAR10Classifier()\n",
    "\n",
    "    opt = tf.keras.optimizers.Adam(_lr)\n",
    "\n",
    "    train_loop(_batch_size, _n_training_epochs, mnist_modelf, opt)"
   ]
  },
  {
   "cell_type": "code",
   "execution_count": null,
   "metadata": {},
   "outputs": [],
   "source": [
    "dataset = tf.data.Dataset.from_tensor_slices((x_train, y_train))\n",
    "dataset.shuffle(50000)\n",
    "\n",
    "batch_size = 512\n",
    "epochs = 3\n",
    "lr = .01\n",
    "train_network(batch_size, epochs, lr)"
   ]
  },
  {
   "cell_type": "code",
   "execution_count": null,
   "metadata": {},
   "outputs": [],
   "source": []
  },
  {
   "cell_type": "markdown",
   "metadata": {},
   "source": [
    "# Homework: improve the accuracy of this model"
   ]
  },
  {
   "cell_type": "markdown",
   "metadata": {},
   "source": [
    "Update this notebook to ensure more accuracy. How high can it be raised? Changes like increasing the number of epochs, altering the learning weight, altering the number of neurons the hidden layer, chnaging the optimizer, etc. could be made directly in the notebook. You can also change the model specification by expanding the network's layer. The current notebook's training accuracy is roughly 58.69%, although it varies randomly."
   ]
  },
  {
   "cell_type": "code",
   "execution_count": null,
   "metadata": {},
   "outputs": [],
   "source": []
  }
 ],
 "metadata": {
  "kernelspec": {
   "display_name": "conda/2022-07-01",
   "language": "python",
   "name": "conda-2022-07-01"
  },
  "language_info": {
   "codemirror_mode": {
    "name": "ipython",
    "version": 3
   },
   "file_extension": ".py",
   "mimetype": "text/x-python",
   "name": "python",
   "nbconvert_exporter": "python",
   "pygments_lexer": "ipython3",
   "version": "3.8.13"
  }
 },
 "nbformat": 4,
 "nbformat_minor": 4
}
